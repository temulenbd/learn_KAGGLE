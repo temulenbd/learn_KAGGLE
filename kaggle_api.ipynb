{
 "cells": [
  {
   "cell_type": "markdown",
   "metadata": {},
   "source": [
    "# KAGGLE API"
   ]
  },
  {
   "cell_type": "code",
   "execution_count": 1,
   "metadata": {},
   "outputs": [],
   "source": [
    "# Install the Kaggle API\n",
    "# !pip install kaggle"
   ]
  },
  {
   "cell_type": "code",
   "execution_count": 2,
   "metadata": {},
   "outputs": [
    {
     "name": "stdout",
     "output_type": "stream",
     "text": [
      "Kaggle API 1.7.4\n"
     ]
    }
   ],
   "source": [
    "# Check kaggle version\n",
    "!kaggle --version"
   ]
  },
  {
   "cell_type": "code",
   "execution_count": 3,
   "metadata": {},
   "outputs": [
    {
     "name": "stdout",
     "output_type": "stream",
     "text": [
      "usage: kaggle [-h] [-v] [-W]\n",
      "              {competitions,c,datasets,d,kernels,k,models,m,files,f,config}\n",
      "              ...\n",
      "\n",
      "options:\n",
      "  -h, --help            show this help message and exit\n",
      "  -v, --version         Print the Kaggle API version\n",
      "  -W, --no-warn         Disable out-of-date API version warning\n",
      "\n",
      "commands:\n",
      "  {competitions,c,datasets,d,kernels,k,models,m,files,f,config}\n",
      "                        Use one of:\n",
      "                        competitions {list, files, download, submit, submissions, leaderboard}\n",
      "                        datasets {list, files, download, create, version, init, metadata, status}\n",
      "                        kernels {list, files, init, push, pull, output, status}\n",
      "                        models {instances, get, list, init, create, delete, update}\n",
      "                        models instances {versions, get, files, init, create, delete, update}\n",
      "                        models instances versions {init, create, download, delete, files}\n",
      "                        config {view, set, unset}\n",
      "    competitions (c)    Commands related to Kaggle competitions\n",
      "    datasets (d)        Commands related to Kaggle datasets\n",
      "    kernels (k)         Commands related to Kaggle kernels\n",
      "    models (m)          Commands related to Kaggle models\n",
      "    files (f)           Commands related files\n",
      "    config              Configuration settings\n"
     ]
    }
   ],
   "source": [
    "# Kaggle API helper\n",
    "!kaggle --help"
   ]
  },
  {
   "cell_type": "code",
   "execution_count": 4,
   "metadata": {},
   "outputs": [
    {
     "name": "stdout",
     "output_type": "stream",
     "text": [
      "ref                                                                  title                                                    size  lastUpdated                 downloadCount  voteCount  usabilityRating  \n",
      "-------------------------------------------------------------------  -------------------------------------------------  ----------  --------------------------  -------------  ---------  ---------------  \n",
      "atharvasoundankar/chocolate-sales                                    Chocolate Sales Data 📊🍫                                 64493  2025-03-07 05:44:03.730000           3492         42  1.0              \n",
      "abdulmalik1518/mobiles-dataset-2025                                  Mobiles Dataset (2025)                                  20314  2025-02-18 06:50:24.370000          10563        190  1.0              \n",
      "adilshamim8/student-performance-on-an-entrance-examination           Student Performance on an Entrance Examination           4402  2025-03-04 00:09:21.697000           1111         29  1.0              \n",
      "mahmoudelhemaly/students-grading-dataset                             Student Performance & Behavior Dataset                 520428  2025-02-17 17:38:46.653000           7657        124  1.0              \n",
      "ignacioazua/life-expectancy                                          Life Expectancy                                          3032  2025-03-04 06:16:35.400000           1384         29  1.0              \n",
      "salahuddinahmedshuvo/ecommerce-consumer-behavior-analysis-data       Ecommerce Consumer Behavior Analysis Data               44265  2025-03-03 13:09:09.223000           1610         22  0.9411765        \n",
      "atharvasoundankar/viral-social-media-trends-and-engagement-analysis  🚀 Viral Social Media Trends & Engagement Analysis      107245  2025-03-10 04:51:48.123000           1154         22  1.0              \n",
      "rathoddharmendra/post-college-salaries                               U.S Post College Salaries                               12729  2025-02-19 14:39:29.787000           1239         29  0.8235294        \n",
      "mayuravartak/motogp-riders-2024-performance-dataset                  MotoGP Riders in 2024 Performance Dataset                5006  2025-03-06 18:48:20.823000            482         25  1.0              \n",
      "vinothkannaece/sales-dataset                                         sales dataset                                           27634  2025-02-18 05:13:42.943000           6057         81  1.0              \n",
      "ankushpanday2/oral-cancer-prediction-dataset                         Oral Cancer Prediction Dataset                        2249627  2025-03-06 14:13:24.547000            794         27  1.0              \n",
      "anandshaw2001/video-game-sales                                       Video Game Sales                                       390286  2025-02-23 05:16:04.587000           1142         44  1.0              \n",
      "smayanj/e-commerce-transactions-dataset                              E-Commerce Transactions Dataset                        767062  2025-03-08 12:20:45.257000            593         40  1.0              \n",
      "amrmaree/student-performance-prediction                              Student Performance Prediction                          10981  2025-03-03 15:46:10.193000           1498         27  0.9411765        \n",
      "smayanj/netflix-users-database                                       Netflix Users Database                                 362559  2025-03-08 12:08:09.403000            592         33  1.0              \n",
      "atharvasoundankar/futuristic-smart-city-citizen-activity-dataset     📊 Futuristic Smart City Citizen Activity Dataset        23423  2025-03-06 04:58:22.513000            621         30  1.0              \n",
      "adilshamim8/student-performance-and-learning-style                   Student Performance & Learning Style                   152058  2025-02-12 06:12:07.370000           3338         53  1.0              \n",
      "ankushpanday2/colorectal-cancer-global-dataset-and-predictions       Colorectal Cancer Global Dataset & Predictions        4118299  2025-02-27 18:30:45.340000           1288         30  1.0              \n",
      "samikshadalvi/lungs-diseases-dataset                                 Lungs Diseases Dataset                                  40564  2025-02-25 01:51:36.297000           1880         38  1.0              \n",
      "dansbecker/melbourne-housing-snapshot                                Melbourne Housing Snapshot                             461423  2018-06-05 12:52:24.087000         173473       1584  0.7058824        \n"
     ]
    }
   ],
   "source": [
    "# List all datasets\n",
    "!kaggle datasets list"
   ]
  },
  {
   "cell_type": "code",
   "execution_count": 5,
   "metadata": {},
   "outputs": [
    {
     "name": "stdout",
     "output_type": "stream",
     "text": [
      "ref                                             title                                   size  lastUpdated                 downloadCount  voteCount  usabilityRating  \n",
      "----------------------------------------------  --------------------------------  ----------  --------------------------  -------------  ---------  ---------------  \n",
      "muhammetvarl/laptop-price                       Laptop Price                           28633  2020-11-05 10:56:42.253000          26485        218  1.0              \n",
      "shubhambathwal/flight-price-prediction          Flight Price Prediction              4360218  2022-02-25 17:58:19.347000          48567        513  1.0              \n",
      "iabhishekofficial/mobile-price-classification   Mobile Price Classification            72340  2018-01-28 08:44:24.237000         213075       2222  0.7058824        \n",
      "neuromusic/avocado-prices                       Avocado Prices                        643781  2018-06-06 05:28:35.433000         320178       3764  0.9705882        \n",
      "juhibhojani/house-price                         House Price                          6926090  2023-08-02 16:51:21.130000          13594        156  0.9411765        \n",
      "harishkumardatalab/housing-price-prediction     Housing Price Prediction                4740  2023-07-07 04:34:24.113000          19435        196  1.0              \n",
      "shree1992/housedata                             House price prediction                442471  2018-08-26 07:56:22.650000          95977        695  0.64705884       \n",
      "sudalairajkumar/cryptocurrencypricehistory      Cryptocurrency Historical Prices     1782192  2021-07-07 06:39:23.893000          92755       1134  0.9705882        \n",
      "muhammadbinimran/housing-price-prediction-data  Housing Price Prediction Data         780809  2023-11-21 17:56:32.977000          22225        309  1.0              \n",
      "saurabhbadole/housing-price-data                Housing Price Data                      4762  2024-03-13 05:07:54.503000           3968        122  1.0              \n",
      "anmolkumar/house-price-prediction-challenge     House Price Prediction Challenge     2233190  2020-10-01 19:37:13.560000          23027        247  1.0              \n",
      "sukhmandeepsinghbrar/housing-price-dataset      Housing Price Dataset                 798261  2024-04-04 19:45:43.837000           7480         99  1.0              \n",
      "camnugent/california-housing-prices             California Housing Prices             409382  2017-11-24 03:14:59.677000         207208       1369  0.85294116       \n",
      "shibumohapatra/house-price                      California House Price                396449  2022-08-27 08:40:30.223000          11905         87  1.0              \n",
      "mrsimple07/laptoppriceprediction                Laptop Price Prediction                40052  2024-01-21 11:06:58.747000           4718         80  1.0              \n",
      "amirhosseinmirzaie/diamonds-price-dataset       Diamonds Price Dataset                570707  2023-06-08 08:19:03.117000           3106         79  1.0              \n",
      "juanmerinobermejo/smartphones-price-dataset     Smartphones Price Dataset              28006  2024-04-18 17:24:55.250000           5827         79  1.0              \n",
      "rkiattisak/mobile-phone-price                   Mobile Phone Price                      4821  2023-03-09 04:15:24.867000           8852         74  1.0              \n",
      "mrsimple07/clothes-price-prediction             Clothes Price Prediction                6386  2024-01-30 09:55:21.920000           3159         74  1.0              \n",
      "ironwolf437/laptop-price-dataset                Laptop Price - dataset‏                25136  2024-11-12 15:50:44.750000           4681         73  1.0              \n"
     ]
    }
   ],
   "source": [
    "# Search for datasets with the word \"price\" in the title\n",
    "!kaggle datasets list -s price"
   ]
  },
  {
   "cell_type": "code",
   "execution_count": 6,
   "metadata": {},
   "outputs": [
    {
     "name": "stdout",
     "output_type": "stream",
     "text": [
      "ref                                                           title                                                   size  lastUpdated                 downloadCount  voteCount  usabilityRating  \n",
      "------------------------------------------------------------  ------------------------------------------------  ----------  --------------------------  -------------  ---------  ---------------  \n",
      "mlg-ulb/creditcardfraud                                       Credit Card Fraud Detection                         69155672  2018-03-23 01:17:27.913000         834711      11967  0.85294116       \n",
      "ealaxi/paysim1                                                Synthetic Financial Datasets For Fraud Detection   186385561  2017-04-03 08:40:34.403000         106492       1442  0.88235295       \n",
      "rikdifos/credit-card-approval-prediction                      Credit Card Approval Prediction                      5578875  2020-03-24 10:04:48.753000          80726        861  1.0              \n",
      "nelgiriyewithana/credit-card-fraud-detection-dataset-2023     Credit Card Fraud Detection Dataset 2023           149953614  2023-09-18 10:00:19.780000          36079        539  1.0              \n",
      "rajanand/crime-in-india                                       Crime in India                                       4600172  2017-08-31 20:37:56.850000          49261        521  0.7647059        \n",
      "kartik2112/fraud-detection                                    Credit Card Transactions Fraud Detection Dataset   211766662  2020-08-05 15:20:55.217000          69057        449  0.85294116       \n",
      "rohitrox/healthcare-provider-fraud-detection-analysis          HEALTHCARE PROVIDER FRAUD DETECTION ANALYSIS       26631783  2019-05-09 19:50:55.237000          26600        300  0.64705884       \n",
      "iamsouravbanerjee/analytics-industry-salaries-2022-india      Data Professionals Salary - 2022                      121706  2022-07-17 11:28:56.467000          15547        282  1.0              \n",
      "mishra5001/credit-card                                        Credit Card Fraud Detection                        117814223  2019-07-15 06:36:02.900000          21868        241  0.88235295       \n",
      "rupakroy/online-payments-fraud-detection-dataset              Online Payments Fraud Detection Dataset            186385561  2022-04-17 15:34:44.267000          23866        220  0.9705882        \n",
      "zusmani/predict-pakistan-elections-2018                       Predict Pakistan Elections 2018                     48732516  2018-07-30 07:32:41.157000           3065        219  0.7647059        \n",
      "dhanushnarayananr/credit-card-fraud                           Credit Card Fraud                                   30281243  2022-05-07 15:09:29.617000          20938        202  0.9411765        \n",
      "thedevastator/analyzing-credit-card-spending-habits-in-india  Credit Card Spending Habits in India                  326253  2024-03-10 19:09:41.650000          13952        201  1.0              \n",
      "apoorvwatsky/bank-transaction-data                            Bank Transaction Data                                5307996  2019-06-03 16:14:13.370000          30059        182  0.64705884       \n",
      "ealaxi/banksim1                                               Synthetic data from a financial payment system      13712256  2017-07-11 14:48:56.270000          30700        175  0.8235294        \n",
      "ealtman2019/ibm-transactions-for-anti-money-laundering-aml    IBM Transactions for Anti Money Laundering (AML)  7969857259  2023-02-28 11:18:12.890000          13909        167  0.9411765        \n",
      "sgpjesus/bank-account-fraud-dataset-neurips-2022              Bank Account Fraud Dataset Suite (NeurIPS 2022)    558054164  2023-11-29 11:32:12.037000          13289        164  1.0              \n",
      "shivamb/vehicle-claim-fraud-detection                         Vehicle Insurance Claim Fraud Detection               356667  2021-12-20 04:26:36.593000          13658        157  0.9411765        \n",
      "kingburrito666/ethereum-historical-data                       Ethereum Historical Data                              207070  2018-10-06 17:34:06.633000           6058        154  0.64705884       \n",
      "rtatman/fraudulent-email-corpus                               Fraudulent E-mail Corpus                             5783148  2017-07-25 18:41:30.347000          13259        152  0.875            \n"
     ]
    }
   ],
   "source": [
    "# Search for datasets with the word \"price\" in the title and sort by votes\n",
    "!kaggle datasets list -s fraud --sort-by votes"
   ]
  },
  {
   "cell_type": "code",
   "execution_count": 12,
   "metadata": {},
   "outputs": [
    {
     "name": "stdout",
     "output_type": "stream",
     "text": [
      "name                                       size  creationDate                \n",
      "------------------------------------  ---------  --------------------------  \n",
      "PS_20174392719_1491204439457_log.csv  493534783  2019-09-20 12:24:52.178000  \n"
     ]
    }
   ],
   "source": [
    "# See the files in a specific dataset (!kaggle datasets files <owner>/<dataset-name>)\n",
    "!kaggle datasets files ealaxi/paysim1"
   ]
  },
  {
   "cell_type": "code",
   "execution_count": 8,
   "metadata": {},
   "outputs": [],
   "source": [
    "# Import needed libraries\n",
    "import kaggle\n",
    "import pandas as pd"
   ]
  },
  {
   "cell_type": "code",
   "execution_count": 9,
   "metadata": {},
   "outputs": [
    {
     "data": {
      "text/plain": [
       "<bound method KaggleApi.authenticate of <kaggle.api.kaggle_api_extended.KaggleApi object at 0x000001BA0FEEA450>>"
      ]
     },
     "execution_count": 9,
     "metadata": {},
     "output_type": "execute_result"
    }
   ],
   "source": [
    "# Authenticate with the Kaggle API\n",
    "kaggle.api.authenticate"
   ]
  },
  {
   "cell_type": "code",
   "execution_count": 13,
   "metadata": {},
   "outputs": [
    {
     "name": "stdout",
     "output_type": "stream",
     "text": [
      "Dataset URL: https://www.kaggle.com/datasets/ealaxi/paysim1\n"
     ]
    }
   ],
   "source": [
    "# Download the dataset\n",
    "kaggle.api.dataset_download_files('ealaxi/paysim1', path=r'C:\\Users\\temulenbd\\OneDrive\\Desktop\\learn\\github_repo\\kaggle', unzip=True)"
   ]
  },
  {
   "cell_type": "code",
   "execution_count": 11,
   "metadata": {},
   "outputs": [
    {
     "data": {
      "text/html": [
       "<div>\n",
       "<style scoped>\n",
       "    .dataframe tbody tr th:only-of-type {\n",
       "        vertical-align: middle;\n",
       "    }\n",
       "\n",
       "    .dataframe tbody tr th {\n",
       "        vertical-align: top;\n",
       "    }\n",
       "\n",
       "    .dataframe thead th {\n",
       "        text-align: right;\n",
       "    }\n",
       "</style>\n",
       "<table border=\"1\" class=\"dataframe\">\n",
       "  <thead>\n",
       "    <tr style=\"text-align: right;\">\n",
       "      <th></th>\n",
       "      <th>step</th>\n",
       "      <th>type</th>\n",
       "      <th>amount</th>\n",
       "      <th>nameOrig</th>\n",
       "      <th>oldbalanceOrg</th>\n",
       "      <th>newbalanceOrig</th>\n",
       "      <th>nameDest</th>\n",
       "      <th>oldbalanceDest</th>\n",
       "      <th>newbalanceDest</th>\n",
       "      <th>isFraud</th>\n",
       "      <th>isFlaggedFraud</th>\n",
       "    </tr>\n",
       "  </thead>\n",
       "  <tbody>\n",
       "    <tr>\n",
       "      <th>0</th>\n",
       "      <td>1</td>\n",
       "      <td>PAYMENT</td>\n",
       "      <td>9839.64</td>\n",
       "      <td>C1231006815</td>\n",
       "      <td>170136.0</td>\n",
       "      <td>160296.36</td>\n",
       "      <td>M1979787155</td>\n",
       "      <td>0.0</td>\n",
       "      <td>0.0</td>\n",
       "      <td>0</td>\n",
       "      <td>0</td>\n",
       "    </tr>\n",
       "    <tr>\n",
       "      <th>1</th>\n",
       "      <td>1</td>\n",
       "      <td>PAYMENT</td>\n",
       "      <td>1864.28</td>\n",
       "      <td>C1666544295</td>\n",
       "      <td>21249.0</td>\n",
       "      <td>19384.72</td>\n",
       "      <td>M2044282225</td>\n",
       "      <td>0.0</td>\n",
       "      <td>0.0</td>\n",
       "      <td>0</td>\n",
       "      <td>0</td>\n",
       "    </tr>\n",
       "    <tr>\n",
       "      <th>2</th>\n",
       "      <td>1</td>\n",
       "      <td>TRANSFER</td>\n",
       "      <td>181.00</td>\n",
       "      <td>C1305486145</td>\n",
       "      <td>181.0</td>\n",
       "      <td>0.00</td>\n",
       "      <td>C553264065</td>\n",
       "      <td>0.0</td>\n",
       "      <td>0.0</td>\n",
       "      <td>1</td>\n",
       "      <td>0</td>\n",
       "    </tr>\n",
       "    <tr>\n",
       "      <th>3</th>\n",
       "      <td>1</td>\n",
       "      <td>CASH_OUT</td>\n",
       "      <td>181.00</td>\n",
       "      <td>C840083671</td>\n",
       "      <td>181.0</td>\n",
       "      <td>0.00</td>\n",
       "      <td>C38997010</td>\n",
       "      <td>21182.0</td>\n",
       "      <td>0.0</td>\n",
       "      <td>1</td>\n",
       "      <td>0</td>\n",
       "    </tr>\n",
       "    <tr>\n",
       "      <th>4</th>\n",
       "      <td>1</td>\n",
       "      <td>PAYMENT</td>\n",
       "      <td>11668.14</td>\n",
       "      <td>C2048537720</td>\n",
       "      <td>41554.0</td>\n",
       "      <td>29885.86</td>\n",
       "      <td>M1230701703</td>\n",
       "      <td>0.0</td>\n",
       "      <td>0.0</td>\n",
       "      <td>0</td>\n",
       "      <td>0</td>\n",
       "    </tr>\n",
       "  </tbody>\n",
       "</table>\n",
       "</div>"
      ],
      "text/plain": [
       "   step      type    amount     nameOrig  oldbalanceOrg  newbalanceOrig  \\\n",
       "0     1   PAYMENT   9839.64  C1231006815       170136.0       160296.36   \n",
       "1     1   PAYMENT   1864.28  C1666544295        21249.0        19384.72   \n",
       "2     1  TRANSFER    181.00  C1305486145          181.0            0.00   \n",
       "3     1  CASH_OUT    181.00   C840083671          181.0            0.00   \n",
       "4     1   PAYMENT  11668.14  C2048537720        41554.0        29885.86   \n",
       "\n",
       "      nameDest  oldbalanceDest  newbalanceDest  isFraud  isFlaggedFraud  \n",
       "0  M1979787155             0.0             0.0        0               0  \n",
       "1  M2044282225             0.0             0.0        0               0  \n",
       "2   C553264065             0.0             0.0        1               0  \n",
       "3    C38997010         21182.0             0.0        1               0  \n",
       "4  M1230701703             0.0             0.0        0               0  "
      ]
     },
     "execution_count": 11,
     "metadata": {},
     "output_type": "execute_result"
    }
   ],
   "source": [
    "# Load the dataset\n",
    "df = pd.read_csv('PS_20174392719_1491204439457_log.csv')\n",
    "\n",
    "df.head()"
   ]
  }
 ],
 "metadata": {
  "kernelspec": {
   "display_name": "base",
   "language": "python",
   "name": "python3"
  },
  "language_info": {
   "codemirror_mode": {
    "name": "ipython",
    "version": 3
   },
   "file_extension": ".py",
   "mimetype": "text/x-python",
   "name": "python",
   "nbconvert_exporter": "python",
   "pygments_lexer": "ipython3",
   "version": "3.11.4"
  }
 },
 "nbformat": 4,
 "nbformat_minor": 2
}
